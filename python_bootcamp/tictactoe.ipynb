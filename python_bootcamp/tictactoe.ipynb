{
 "cells": [
  {
   "cell_type": "code",
   "execution_count": 24,
   "metadata": {},
   "outputs": [],
   "source": [
    "\n"
   ]
  },
  {
   "cell_type": "code",
   "execution_count": 23,
   "metadata": {},
   "outputs": [
    {
     "name": "stdout",
     "output_type": "stream",
     "text": [
      "Welcome to Tic Tac Toe\n",
      "New ROUND\n",
      "_________\n",
      "['X', ' ', ' ']\n",
      "[' ', ' ', ' ']\n",
      "[' ', ' ', ' ']\n",
      "_________\n",
      "New ROUND\n",
      "_________\n",
      "['X', ' ', 'O']\n",
      "[' ', ' ', ' ']\n",
      "[' ', ' ', ' ']\n",
      "_________\n",
      "New ROUND\n",
      "_________\n",
      "['X', ' ', 'O']\n",
      "['X', ' ', ' ']\n",
      "[' ', ' ', ' ']\n",
      "_________\n",
      "New ROUND\n",
      "_________\n",
      "['X', ' ', 'O']\n",
      "['X', 'O', ' ']\n",
      "[' ', ' ', ' ']\n",
      "_________\n"
     ]
    },
    {
     "ename": "KeyboardInterrupt",
     "evalue": "Interrupted by user",
     "output_type": "error",
     "traceback": [
      "\u001b[0;31m---------------------------------------------------------------------------\u001b[0m",
      "\u001b[0;31mKeyboardInterrupt\u001b[0m                         Traceback (most recent call last)",
      "Cell \u001b[0;32mIn[23], line 34\u001b[0m\n\u001b[1;32m     31\u001b[0m                 current_player \u001b[38;5;241m=\u001b[39m player1\n\u001b[1;32m     32\u001b[0m     \u001b[38;5;28mprint\u001b[39m(\u001b[38;5;124m'\u001b[39m\u001b[38;5;124mgame over\u001b[39m\u001b[38;5;124m'\u001b[39m)\n\u001b[0;32m---> 34\u001b[0m \u001b[43mrun_game\u001b[49m\u001b[43m(\u001b[49m\u001b[43m)\u001b[49m\n",
      "Cell \u001b[0;32mIn[23], line 15\u001b[0m, in \u001b[0;36mrun_game\u001b[0;34m()\u001b[0m\n\u001b[1;32m     13\u001b[0m result \u001b[38;5;241m=\u001b[39m \u001b[38;5;124m'\u001b[39m\u001b[38;5;124m'\u001b[39m\n\u001b[1;32m     14\u001b[0m \u001b[38;5;28;01mwhile\u001b[39;00m \u001b[38;5;129;01mnot\u001b[39;00m get_input(result):\n\u001b[0;32m---> 15\u001b[0m     result \u001b[38;5;241m=\u001b[39m \u001b[38;5;28;43minput\u001b[39;49m\u001b[43m(\u001b[49m\u001b[38;5;124;43mf\u001b[39;49m\u001b[38;5;124;43m\"\u001b[39;49m\u001b[38;5;132;43;01m{\u001b[39;49;00m\u001b[43mcurrent_player\u001b[49m\u001b[43m[\u001b[49m\u001b[38;5;241;43m0\u001b[39;49m\u001b[43m]\u001b[49m\u001b[38;5;132;43;01m}\u001b[39;49;00m\u001b[38;5;124;43m please enter a number for the square 1-3 top row, 4-7 middle row, 7-10 bottom row : \u001b[39;49m\u001b[38;5;124;43m\"\u001b[39;49m\u001b[43m)\u001b[49m\n\u001b[1;32m     16\u001b[0m result \u001b[38;5;241m=\u001b[39m \u001b[38;5;28mint\u001b[39m(result)\n\u001b[1;32m     17\u001b[0m \u001b[38;5;28;01mif\u001b[39;00m result \u001b[38;5;129;01min\u001b[39;00m \u001b[38;5;28mrange\u001b[39m(\u001b[38;5;241m1\u001b[39m, \u001b[38;5;241m4\u001b[39m):\n",
      "File \u001b[0;32m~/.pyenv/versions/3.12.0/lib/python3.12/site-packages/ipykernel/kernelbase.py:1270\u001b[0m, in \u001b[0;36mKernel.raw_input\u001b[0;34m(self, prompt)\u001b[0m\n\u001b[1;32m   1268\u001b[0m     msg \u001b[38;5;241m=\u001b[39m \u001b[38;5;124m\"\u001b[39m\u001b[38;5;124mraw_input was called, but this frontend does not support input requests.\u001b[39m\u001b[38;5;124m\"\u001b[39m\n\u001b[1;32m   1269\u001b[0m     \u001b[38;5;28;01mraise\u001b[39;00m StdinNotImplementedError(msg)\n\u001b[0;32m-> 1270\u001b[0m \u001b[38;5;28;01mreturn\u001b[39;00m \u001b[38;5;28;43mself\u001b[39;49m\u001b[38;5;241;43m.\u001b[39;49m\u001b[43m_input_request\u001b[49m\u001b[43m(\u001b[49m\n\u001b[1;32m   1271\u001b[0m \u001b[43m    \u001b[49m\u001b[38;5;28;43mstr\u001b[39;49m\u001b[43m(\u001b[49m\u001b[43mprompt\u001b[49m\u001b[43m)\u001b[49m\u001b[43m,\u001b[49m\n\u001b[1;32m   1272\u001b[0m \u001b[43m    \u001b[49m\u001b[38;5;28;43mself\u001b[39;49m\u001b[38;5;241;43m.\u001b[39;49m\u001b[43m_parent_ident\u001b[49m\u001b[43m[\u001b[49m\u001b[38;5;124;43m\"\u001b[39;49m\u001b[38;5;124;43mshell\u001b[39;49m\u001b[38;5;124;43m\"\u001b[39;49m\u001b[43m]\u001b[49m\u001b[43m,\u001b[49m\n\u001b[1;32m   1273\u001b[0m \u001b[43m    \u001b[49m\u001b[38;5;28;43mself\u001b[39;49m\u001b[38;5;241;43m.\u001b[39;49m\u001b[43mget_parent\u001b[49m\u001b[43m(\u001b[49m\u001b[38;5;124;43m\"\u001b[39;49m\u001b[38;5;124;43mshell\u001b[39;49m\u001b[38;5;124;43m\"\u001b[39;49m\u001b[43m)\u001b[49m\u001b[43m,\u001b[49m\n\u001b[1;32m   1274\u001b[0m \u001b[43m    \u001b[49m\u001b[43mpassword\u001b[49m\u001b[38;5;241;43m=\u001b[39;49m\u001b[38;5;28;43;01mFalse\u001b[39;49;00m\u001b[43m,\u001b[49m\n\u001b[1;32m   1275\u001b[0m \u001b[43m\u001b[49m\u001b[43m)\u001b[49m\n",
      "File \u001b[0;32m~/.pyenv/versions/3.12.0/lib/python3.12/site-packages/ipykernel/kernelbase.py:1313\u001b[0m, in \u001b[0;36mKernel._input_request\u001b[0;34m(self, prompt, ident, parent, password)\u001b[0m\n\u001b[1;32m   1310\u001b[0m \u001b[38;5;28;01mexcept\u001b[39;00m \u001b[38;5;167;01mKeyboardInterrupt\u001b[39;00m:\n\u001b[1;32m   1311\u001b[0m     \u001b[38;5;66;03m# re-raise KeyboardInterrupt, to truncate traceback\u001b[39;00m\n\u001b[1;32m   1312\u001b[0m     msg \u001b[38;5;241m=\u001b[39m \u001b[38;5;124m\"\u001b[39m\u001b[38;5;124mInterrupted by user\u001b[39m\u001b[38;5;124m\"\u001b[39m\n\u001b[0;32m-> 1313\u001b[0m     \u001b[38;5;28;01mraise\u001b[39;00m \u001b[38;5;167;01mKeyboardInterrupt\u001b[39;00m(msg) \u001b[38;5;28;01mfrom\u001b[39;00m \u001b[38;5;28;01mNone\u001b[39;00m\n\u001b[1;32m   1314\u001b[0m \u001b[38;5;28;01mexcept\u001b[39;00m \u001b[38;5;167;01mException\u001b[39;00m:\n\u001b[1;32m   1315\u001b[0m     \u001b[38;5;28mself\u001b[39m\u001b[38;5;241m.\u001b[39mlog\u001b[38;5;241m.\u001b[39mwarning(\u001b[38;5;124m\"\u001b[39m\u001b[38;5;124mInvalid Message:\u001b[39m\u001b[38;5;124m\"\u001b[39m, exc_info\u001b[38;5;241m=\u001b[39m\u001b[38;5;28;01mTrue\u001b[39;00m)\n",
      "\u001b[0;31mKeyboardInterrupt\u001b[0m: Interrupted by user"
     ]
    }
   ],
   "source": [
    "From IPython.display import clear_output\n",
    "\n",
    "def display(row1, row2, row3):\n",
    "    print('New ROUND')\n",
    "    print('_________')\n",
    "    print(row1)\n",
    "    print(row2)\n",
    "    print(row3)\n",
    "    print('_________')\n",
    "\n",
    "row1 = [' ', ' ', ' ']\n",
    "row2 = [' ', ' ', ' ']\n",
    "row3 = [' ', ' ', ' ']\n",
    "def reset_game():\n",
    "    row1 = [' ', ' ', ' ']\n",
    "    row2 = [' ', ' ', ' ']\n",
    "    row3 = [' ', ' ', ' ']\n",
    "\n",
    "def check_winner(row1, row2, row3, player):\n",
    "    if(\n",
    "       ((row1[0] == row1[1] == row1[2]) and (row1[0] == 'X' or row1[0]== 'O') ) or \n",
    "       ((row2[0] == row2[1] == row2[2]) and (row2[0] == 'X' or row2[0]== 'O') ) or \n",
    "       ((row3[0] == row3[1] == row3[2]) and (row3[0] == 'X' or row3[0]== 'O') ) or \n",
    "       ((row1[0] == row2[0] == row3[0]) and (row1[0] == 'X' or row1[0]== 'O') ) or \n",
    "       ((row1[1] == row2[1] == row3[1]) and (row1[1] == 'X' or row1[1]== 'O') ) or \n",
    "       ((row1[2] == row2[2] == row3[2]) and (row1[2] == 'X' or row1[2]== 'O') ) or \n",
    "       ((row1[0] == row2[1] == row3[2]) and (row1[0] == 'X' or row1[0]== 'O') ) or \n",
    "       ((row1[2] == row2[1] == row3[0]) and (row1[2] == 'X' or row1[2]== 'O') )\n",
    "    ):\n",
    "        print(f'{player} is a winner')\n",
    "        return True\n",
    "    else:\n",
    "        return False\n",
    "    \n",
    "def get_input(value):\n",
    "    return value.isdigit() and int(value) in range(1, 10)\n",
    "\n",
    "def run_game():\n",
    "    reset_game()\n",
    "    print('Welcome to Tic Tac Toe')\n",
    "    winner = False\n",
    "    player1 = ('player 1 (X)','X')\n",
    "    player2 = ('player 2 (O)','O')\n",
    "    current_player = player1\n",
    "    result = 0\n",
    "    while winner == False:\n",
    "        result = ''\n",
    "        while not get_input(result):\n",
    "            result = input(f\"{current_player[0]} please enter a number for the square 1-3 top row, 4-7 middle row, 7-10 bottom row : \")\n",
    "        result = int(result)\n",
    "        if result in range(1, 4):\n",
    "            row1[result - 1] = current_player[1]\n",
    "        elif result in range(4, 7):\n",
    "            row2[result - 4] = current_player[1]\n",
    "        elif result in range(7, 10):\n",
    "            row3[result - 7] = current_player[1]\n",
    "        clear_output()\n",
    "        display(row1, row2, row3)\n",
    "        \n",
    "        if check_winner(row1, row2, row3, current_player[0]):\n",
    "            winner = True\n",
    "        else:\n",
    "            if current_player == player1:\n",
    "                current_player = player2\n",
    "            else:\n",
    "                current_player = player1\n",
    "    print('game over')\n",
    "\n",
    "run_game()\n"
   ]
  },
  {
   "cell_type": "code",
   "execution_count": 31,
   "metadata": {},
   "outputs": [
    {
     "name": "stdout",
     "output_type": "stream",
     "text": [
      "[9, 8, 7, 6, 5, 4, 3, 2, 1]\n"
     ]
    }
   ],
   "source": [
    "list = [1, 2, 3, 4, 5, 6, 7, 8, 9]\n",
    "#print(reversed(list))\n",
    "list.reverse()\n",
    "print(list)"
   ]
  }
 ],
 "metadata": {
  "kernelspec": {
   "display_name": "Python 3",
   "language": "python",
   "name": "python3"
  },
  "language_info": {
   "codemirror_mode": {
    "name": "ipython",
    "version": 3
   },
   "file_extension": ".py",
   "mimetype": "text/x-python",
   "name": "python",
   "nbconvert_exporter": "python",
   "pygments_lexer": "ipython3",
   "version": "3.12.0"
  }
 },
 "nbformat": 4,
 "nbformat_minor": 2
}
