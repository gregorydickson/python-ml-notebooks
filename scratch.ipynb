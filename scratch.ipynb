{
 "cells": [
  {
   "cell_type": "code",
   "execution_count": 11,
   "metadata": {},
   "outputs": [
    {
     "name": "stdout",
     "output_type": "stream",
     "text": [
      "17\n",
      "98\n",
      "979\n",
      "25333\n",
      "21781332\n",
      "98\n"
     ]
    }
   ],
   "source": [
    "\n",
    "\n",
    "def compute_sum(number):\n",
    "    a = 0\n",
    "    for i in range(1, number+1):\n",
    "        a += i**4\n",
    "    return a\n",
    "print(compute_sum(2))\n",
    "print(compute_sum(3))\n",
    "print(compute_sum(5))\n",
    "print(compute_sum(10))\n",
    "\n",
    "def divisible_by_27(number):\n",
    "    if number % 27 == 0:\n",
    "        return True\n",
    "    else:\n",
    "        return False\n",
    "\n",
    "def find_smallest_divisible_by_27():\n",
    "    number = 1\n",
    "    test = compute_sum(number)\n",
    "\n",
    "    while not divisible_by_27(test):\n",
    "        number += 1\n",
    "        test = compute_sum(number)    \n",
    "    return test\n",
    "print(find_smallest_divisible_by_27())\n",
    "\n",
    "def sum_divisible_by_m(m):\n",
    "    number = 1\n",
    "    test = compute_sum(number)\n",
    "\n",
    "    while not test % m == 0:\n",
    "        number += 1\n",
    "        test = compute_sum(number)\n",
    "    return test\n",
    "\n",
    "print(sum_divisible_by_m(7))\n"
   ]
  },
  {
   "cell_type": "code",
   "execution_count": 3,
   "metadata": {},
   "outputs": [
    {
     "data": {
      "text/plain": [
       "float"
      ]
     },
     "execution_count": 3,
     "metadata": {},
     "output_type": "execute_result"
    }
   ],
   "source": [
    "type(a)\n",
    "a = 3.14\n",
    "type(a)"
   ]
  },
  {
   "cell_type": "code",
   "execution_count": 5,
   "metadata": {},
   "outputs": [
    {
     "name": "stdout",
     "output_type": "stream",
     "text": [
      "print an int 3.14\n"
     ]
    }
   ],
   "source": [
    "print(f\"print an int {a}\")"
   ]
  },
  {
   "cell_type": "code",
   "execution_count": 7,
   "metadata": {},
   "outputs": [
    {
     "name": "stdout",
     "output_type": "stream",
     "text": [
      "em esrever\n",
      "REVERSE ME\n"
     ]
    }
   ],
   "source": [
    "b = \"reverse me\"\n",
    "print (b[::-1])\n",
    "print(b.upper())"
   ]
  },
  {
   "cell_type": "code",
   "execution_count": 22,
   "metadata": {},
   "outputs": [
    {
     "name": "stdout",
     "output_type": "stream",
     "text": [
      "[5, 9, 3, 2, 1]\n"
     ]
    },
    {
     "data": {
      "text/plain": [
       "[1, 2, 3, 5, 9]"
      ]
     },
     "execution_count": 22,
     "metadata": {},
     "output_type": "execute_result"
    }
   ],
   "source": [
    "a_list = [1, 2, 3, 9, 5]\n",
    "print(a_list[::-1])\n",
    "sorted(a_list)"
   ]
  },
  {
   "cell_type": "code",
   "execution_count": 14,
   "metadata": {},
   "outputs": [
    {
     "name": "stdout",
     "output_type": "stream",
     "text": [
      "Writing mynewfile.txt\n"
     ]
    }
   ],
   "source": [
    "%%writefile mynewfile.txt\n",
    "Hello this is a text file\n",
    "this is second line\n",
    "this is a third line"
   ]
  },
  {
   "cell_type": "code",
   "execution_count": 8,
   "metadata": {},
   "outputs": [
    {
     "data": {
      "text/plain": [
       "['Hello this is a text file\\n',\n",
       " 'this is second line\\n',\n",
       " 'this is a third line\\n']"
      ]
     },
     "execution_count": 8,
     "metadata": {},
     "output_type": "execute_result"
    }
   ],
   "source": [
    "myfile = open('myfile.txt')\n",
    "myfile.read()\n",
    "myfile.seek(0)\n",
    "myfile.readlines()\n",
    "myfile.close()"
   ]
  },
  {
   "cell_type": "code",
   "execution_count": 19,
   "metadata": {},
   "outputs": [
    {
     "name": "stdout",
     "output_type": "stream",
     "text": [
      "Hello this is a text file\n",
      "this is second line\n",
      "this is a third line\n",
      "This is a new line\n"
     ]
    }
   ],
   "source": [
    "with open('mynewfile.txt', mode='r') as my_new_file:\n",
    "    contents = my_new_file.read()\n",
    "    print(contents)\n"
   ]
  },
  {
   "cell_type": "code",
   "execution_count": 18,
   "metadata": {},
   "outputs": [],
   "source": [
    "with open('mynewfile.txt', mode='a') as my_new_file:\n",
    "    contents = my_new_file.write('This is a new line')"
   ]
  },
  {
   "cell_type": "code",
   "execution_count": 20,
   "metadata": {},
   "outputs": [],
   "source": [
    "with open('somenewfile.txt', mode='w') as my_new_file:\n",
    "    contents = my_new_file.write('This is a new line for a new file')"
   ]
  },
  {
   "cell_type": "code",
   "execution_count": 3,
   "metadata": {},
   "outputs": [
    {
     "data": {
      "text/plain": [
       "array([0, 2, 4, 6, 8])"
      ]
     },
     "execution_count": 3,
     "metadata": {},
     "output_type": "execute_result"
    }
   ],
   "source": [
    "np.arange(0, 10, 2)"
   ]
  },
  {
   "cell_type": "code",
   "execution_count": 8,
   "metadata": {},
   "outputs": [
    {
     "name": "stdout",
     "output_type": "stream",
     "text": [
      "2\n",
      "4\n",
      "6\n",
      "8\n",
      "10\n",
      "55\n",
      "1\n",
      "3\n",
      "5\n",
      "7\n"
     ]
    }
   ],
   "source": [
    "my_list = [1, 2, 3, 4, 5, 6, 7, 8, 9, 10]\n",
    "my_list_of_tuples = [(1, 2), (3, 4), (5, 6), (7, 8)]\n",
    "list_sum = 0\n",
    "for num in my_list:\n",
    "    if num % 2 == 0:\n",
    "        print(num)\n",
    "    list_sum = num + list_sum\n",
    "print(list_sum)\n",
    "\n",
    "for (a,b) in my_list_of_tuples:\n",
    "    print(a)"
   ]
  },
  {
   "cell_type": "code",
   "execution_count": 11,
   "metadata": {},
   "outputs": [
    {
     "name": "stdout",
     "output_type": "stream",
     "text": [
      "10\n",
      "9\n",
      "8\n",
      "7\n",
      "6\n",
      "5\n",
      "4\n",
      "3\n",
      "2\n",
      "1\n",
      "End of list\n",
      "0\n",
      "2\n",
      "4\n",
      "6\n",
      "8\n"
     ]
    }
   ],
   "source": [
    "my_list = [1, 2, 3, 4, 5, 6, 7, 8, 9, 10]\n",
    "my_list_of_tuples = [(1, 2), (3, 4), (5, 6), (7, 8)]\n",
    "\n",
    "while my_list:\n",
    "    print(my_list.pop())\n",
    "else:\n",
    "    print('End of list')\n",
    "\n",
    "for num in range(0, 10, 2):\n",
    "    print(num)"
   ]
  },
  {
   "cell_type": "code",
   "execution_count": 13,
   "metadata": {},
   "outputs": [
    {
     "name": "stdout",
     "output_type": "stream",
     "text": [
      "T\n",
      "h\n",
      "i\n",
      "s\n",
      " \n",
      "i\n",
      "s\n",
      " \n",
      "a\n",
      " \n",
      "s\n",
      "t\n",
      "r\n",
      "i\n",
      "n\n",
      "g\n"
     ]
    }
   ],
   "source": [
    "words = 'This is a string'\n",
    "\n",
    "for index, item in enumerate(words):\n",
    "    print(item)"
   ]
  },
  {
   "cell_type": "code",
   "execution_count": 18,
   "metadata": {},
   "outputs": [
    {
     "name": "stdout",
     "output_type": "stream",
     "text": [
      "1\n",
      "5\n",
      "(1, 'a')\n",
      "(2, 'b')\n",
      "(3, 'c')\n",
      "(4, 'd')\n",
      "(5, 'e')\n"
     ]
    },
    {
     "data": {
      "text/plain": [
       "True"
      ]
     },
     "execution_count": 18,
     "metadata": {},
     "output_type": "execute_result"
    }
   ],
   "source": [
    "first_list = [1, 2, 3, 4, 5]\n",
    "print(min(first_list))\n",
    "print(max(first_list))\n",
    "second_list = ['a', 'b', 'c', 'd', 'e']\n",
    "for item in zip(first_list, second_list):\n",
    "    print(item)\n",
    "\n",
    "'c' in second_list"
   ]
  },
  {
   "cell_type": "code",
   "execution_count": 21,
   "metadata": {},
   "outputs": [
    {
     "name": "stdout",
     "output_type": "stream",
     "text": [
      "[3, 4, 1, 2, 5]\n",
      "21\n"
     ]
    }
   ],
   "source": [
    "from random import shuffle, randint\n",
    "shuffle(first_list)\n",
    "print(first_list)\n",
    "print(randint(0, 100))"
   ]
  },
  {
   "cell_type": "code",
   "execution_count": 2,
   "metadata": {},
   "outputs": [
    {
     "name": "stdout",
     "output_type": "stream",
     "text": [
      "[0, 6, 12, 18, 24, 30, 36, 42, 48, 54, 60, 66, 72, 78, 84, 90, 96]\n",
      "{0, 96, 66, 36, 6, 72, 42, 12, 78, 48, 18, 84, 54, 24, 90, 60, 30}\n",
      "{0, 96, 66, 36, 6, 72, 42, 12, 78, 48, 18, 84, 54, 24, 90, 60, 30}\n"
     ]
    }
   ],
   "source": [
    "my_list = [x for x in range(0, 100, 3) if x % 2 == 0]\n",
    "print(my_list)\n",
    "my_set = set(my_list)\n",
    "print(my_set)\n",
    "another_set = {x for x in range(0, 100, 3) if x % 2 == 0}\n",
    "print(another_set)"
   ]
  },
  {
   "cell_type": "code",
   "execution_count": 4,
   "metadata": {},
   "outputs": [
    {
     "name": "stdout",
     "output_type": "stream",
     "text": [
      "0.9272952180016122\n"
     ]
    }
   ],
   "source": [
    "import cmath as cm\n",
    "mycomplex = complex(3, 4)\n",
    "print(cm.phase(mycomplex))"
   ]
  },
  {
   "cell_type": "code",
   "execution_count": 10,
   "metadata": {},
   "outputs": [
    {
     "name": "stdout",
     "output_type": "stream",
     "text": [
      "even\n",
      "13.5\n"
     ]
    }
   ],
   "source": [
    "def get_median_font_size(font_sizes):\n",
    "    if(len(font_sizes) == 0):\n",
    "        return None\n",
    "    elif(len(font_sizes) % 2 != 0):\n",
    "        return sorted(font_sizes)[len(font_sizes)//2]\n",
    "    else:\n",
    "        print (\"even\")\n",
    "        return (sorted(font_sizes)[(len(font_sizes)//2) - 1] + sorted(font_sizes)[(len(font_sizes)//2)])/2\n",
    "    \n",
    "print(get_median_font_size([9, 11, 16, 20]))\n",
    "                "
   ]
  },
  {
   "cell_type": "code",
   "execution_count": null,
   "metadata": {},
   "outputs": [],
   "source": [
    "\n",
    "from functools import reduce\n",
    "\n",
    "reduce(lambda x, y: x + \". \" + y + \".\" if x is not None and y is not None else x + \".\", strings[:x])\n"
   ]
  }
 ],
 "metadata": {
  "kernelspec": {
   "display_name": "Python 3",
   "language": "python",
   "name": "python3"
  },
  "language_info": {
   "codemirror_mode": {
    "name": "ipython",
    "version": 3
   },
   "file_extension": ".py",
   "mimetype": "text/x-python",
   "name": "python",
   "nbconvert_exporter": "python",
   "pygments_lexer": "ipython3",
   "version": "3.12.2"
  }
 },
 "nbformat": 4,
 "nbformat_minor": 2
}
